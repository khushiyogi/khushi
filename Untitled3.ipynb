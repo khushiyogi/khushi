{
  "nbformat": 4,
  "nbformat_minor": 0,
  "metadata": {
    "colab": {
      "provenance": [],
      "authorship_tag": "ABX9TyPffZxp2LScTU3cpYvX0VQ5",
      "include_colab_link": true
    },
    "kernelspec": {
      "name": "python3",
      "display_name": "Python 3"
    },
    "language_info": {
      "name": "python"
    }
  },
  "cells": [
    {
      "cell_type": "markdown",
      "metadata": {
        "id": "view-in-github",
        "colab_type": "text"
      },
      "source": [
        "<a href=\"https://colab.research.google.com/github/khushiyogi/khushi/blob/main/Untitled3.ipynb\" target=\"_parent\"><img src=\"https://colab.research.google.com/assets/colab-badge.svg\" alt=\"Open In Colab\"/></a>"
      ]
    },
    {
      "cell_type": "code",
      "execution_count": 15,
      "metadata": {
        "colab": {
          "base_uri": "https://localhost:8080/"
        },
        "id": "vSW2dhkP8nz5",
        "outputId": "fbaa8297-efdd-4a5d-8536-bb4ee48dcb1d"
      },
      "outputs": [
        {
          "output_type": "stream",
          "name": "stdout",
          "text": [
            "every car has 4 wheels\n",
            "speed is 100km/h\n",
            "every car has 4 wheels\n",
            "speed is 70km/h\n"
          ]
        }
      ],
      "source": [
        "from abc import ABC\n",
        "\n",
        "class car(ABC):\n",
        "  def show(self):\n",
        "    print(\"every car has 4 wheels\")\n",
        "\n",
        "  def speed(self):\n",
        "         pass\n",
        "\n",
        "class maruti(car):\n",
        "   def speed(self):\n",
        "       print(\"speed is 100km/h\")\n",
        "\n",
        "class suzuki(car):\n",
        "    def speed(self):\n",
        "        print(\"speed is 70km/h\")\n",
        "\n",
        "obj = maruti()\n",
        "obj.show()\n",
        "obj.speed()\n",
        "obj1 = suzuki()\n",
        "obj1.show()\n",
        "obj1.speed()"
      ]
    },
    {
      "cell_type": "code",
      "source": [],
      "metadata": {
        "id": "bNFWNPVsAOl6"
      },
      "execution_count": null,
      "outputs": []
    }
  ]
}